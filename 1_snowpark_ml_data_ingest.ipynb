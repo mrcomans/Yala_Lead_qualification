{
 "cells": [
  {
   "attachments": {},
   "cell_type": "markdown",
   "metadata": {},
   "source": [
    "## 1. Data Ingestion\n",
    "\n",
    "The `diamonds` dataset has been widely used in data science and machine learning. We will use it to demonstrate Snowflake's native data science transformers in terms of database functionality and Spark & Pandas comportablity, using non-synthetic and statistically appropriate data that is well known to the ML community.\n",
    "\n"
   ]
  },
  {
   "attachments": {},
   "cell_type": "markdown",
   "metadata": {},
   "source": [
    "### Establish Secure Connection to Snowflake\n",
    "\n",
    "*Other connection options include Username/Password, MFA, OAuth, Okta, SSO. For more information, refer to the [Python Connector](https://docs.snowflake.com/en/developer-guide/python-connector/python-connector-example) documentation.*"
   ]
  },
  {
   "attachments": {},
   "cell_type": "markdown",
   "metadata": {},
   "source": [
    "### Import Libraries"
   ]
  },
  {
   "cell_type": "code",
   "execution_count": 29,
   "metadata": {},
   "outputs": [],
   "source": [
    "# Snowpark for Python\n",
    "from snowflake.snowpark import Session\n",
    "from snowflake.snowpark.version import VERSION\n",
    "from snowflake.snowpark.types import StructType, StructField, DoubleType, StringType\n",
    "import snowflake.snowpark.functions as F\n",
    "\n",
    "# data science libs\n",
    "import numpy as np\n",
    "\n",
    "# misc\n",
    "import json"
   ]
  },
  {
   "cell_type": "code",
   "execution_count": 30,
   "metadata": {},
   "outputs": [
    {
     "name": "stdout",
     "output_type": "stream",
     "text": [
      "\n",
      "Connection Established with the following parameters:\n",
      "User                        : MARK1971\n",
      "Role                        : \"ACCOUNTADMIN\"\n",
      "Database                    : \"YALA_DB\"\n",
      "Schema                      : \"PUBLIC\"\n",
      "Warehouse                   : \"COMPUTE_WH\"\n",
      "Snowflake version           : 7.41.0\n",
      "Snowpark for Python version : 1.9.0\n"
     ]
    }
   ],
   "source": [
    "# Make a Snowpark Connection\n",
    "\n",
    "################################################################################################################\n",
    "#  You can also use the SnowSQL Client to configure your connection params:\n",
    "#  https://docs.snowflake.com/en/user-guide/snowsql-install-config.html\n",
    "#\n",
    "#  >>> from snowflake.ml.utils import connection_params\n",
    "#  >>> session = Session.builder.configs(connection_params.SnowflakeLoginOptions()\n",
    "#  >>> ).create()   \n",
    "#\n",
    "#  NOTE: If you have named connection params then specify the connection name\n",
    "#  Example:\n",
    "#  \n",
    "#  >>> session = Session.builder.configs(\n",
    "#  >>> connection_params.SnowflakeLoginOptions(connection_name='connections.snowml')\n",
    "#  >>> ).create()\n",
    "#\n",
    "#################################################################################################################\n",
    "\n",
    "# Edit the connection.json before creating the session object below\n",
    "# Create Snowflake Session object\n",
    "connection_parameters = json.load(open('connection.json'))\n",
    "session = Session.builder.configs(connection_parameters).create()\n",
    "session.sql_simplifier_enabled = True\n",
    "\n",
    "snowflake_environment = session.sql('SELECT current_user(), current_version()').collect()\n",
    "snowpark_version = VERSION\n",
    "\n",
    "# Current Environment Details\n",
    "print('\\nConnection Established with the following parameters:')\n",
    "print('User                        : {}'.format(snowflake_environment[0][0]))\n",
    "print('Role                        : {}'.format(session.get_current_role()))\n",
    "print('Database                    : {}'.format(session.get_current_database()))\n",
    "print('Schema                      : {}'.format(session.get_current_schema()))\n",
    "print('Warehouse                   : {}'.format(session.get_current_warehouse()))\n",
    "print('Snowflake version           : {}'.format(snowflake_environment[0][1]))\n",
    "print('Snowpark for Python version : {}.{}.{}'.format(snowpark_version[0],snowpark_version[1],snowpark_version[2]))"
   ]
  },
  {
   "attachments": {},
   "cell_type": "markdown",
   "metadata": {},
   "source": [
    "### Use the Snowpark DataFrame Reader to read in data from the externally staged `diamonds` CSV file \n",
    "\n",
    "In setup.sql, we staged the `diamonds.csv` file from an external s3 bucket. Now, we can read it in.\n",
    "\n",
    "For more information on loading data, see documentation on [snowflake.snowpark.DataFrameReader](https://docs.snowflake.com/ko/developer-guide/snowpark/reference/python/api/snowflake.snowpark.DataFrameReader.html).\n",
    "\n",
    "\n"
   ]
  },
  {
   "cell_type": "code",
   "execution_count": 38,
   "metadata": {},
   "outputs": [],
   "source": [
    "# Specify the table name where we stored the diamonds dataset\n",
    "# **nChange this only if you named your table something else in the data ingest notebook **\n",
    "LEAD_TABLE = 'LEADS'\n",
    "input_tbl = f\"{session.get_current_database()}.{session.get_current_schema()}.{LEAD_TABLE}\""
   ]
  },
  {
   "cell_type": "code",
   "execution_count": 39,
   "metadata": {},
   "outputs": [
    {
     "name": "stdout",
     "output_type": "stream",
     "text": [
      "-------------------------------------------------------------------------------------------------------------------------------------------------------------------------------------------------------------------------------------------------------------------------------------------------------------------------------------------------------------------------------------------------------------------------------------------------------------------------------------------------------------------------------------------------------------------------------------------------------------------------------------------------------------------------------------------------------------------------------------------------------------------------------------------------------------------\n",
      "|\"ID\"      |\"SALUTATION\"  |\"TITLE\"  |\"FIRSTNAME\"  |\"LASTNAME\"  |\"LEADSTATUSID\"  |\"LEADSOURCEID\"  |\"CONVERTED\"  |\"CONVERTEDDATE\"         |\"CONVERTEDCONTACTID\"  |\"CONVERTEDORGANIZATIONID\"  |\"CONVERTEDOPPORTUNITYID\"  |\"CREATEDDATE\"          |\"UPDATEDDATE\"          |\"EMAIL\"                             |\"EMPLOYEECOUNT\"  |\"FAX\"  |\"INDUSTRY\"  |\"LEADRATING\"  |\"LEADDESCRIPTION\"                                   |\"MOBILE\"        |\"OWNERUSERID\"  |\"PHONE\"       |\"RESPONSIBLEUSERID\"  |\"WEBSITE\"  |\"ADDRESSSTREET\"  |\"ADDRESSCITY\"  |\"ADDRESSSTATE\"  |\"ADDRESSPOSTCODE\"  |\"ADDRESSCOUNTRY\"  |\"LASTACTIVITYDATE\"      |\"NEXTACTIVITYDATE\"      |\"VISIBLETO\"  |\"VISIBLETEAMID\"  |\"ORGANIZATIONNAME\"              |\"CREATEDUSERID\"  |\"IMAGEURL\"  |\"CUSTOMFIELDS\"                                      |\"TAGS\"  |\n",
      "-------------------------------------------------------------------------------------------------------------------------------------------------------------------------------------------------------------------------------------------------------------------------------------------------------------------------------------------------------------------------------------------------------------------------------------------------------------------------------------------------------------------------------------------------------------------------------------------------------------------------------------------------------------------------------------------------------------------------------------------------------------------------------------------------------------------\n",
      "|45237878  |              |         |Sylvia       |Joosse      |3251784         |2973396         |False        |                        |                      |                           |                          |9/2/2019 1:32:37 PM    |3/2/2022 9:12:12 AM    |sylviajoose@hotmail.com             |0                |       |            |              |                                                    |0651728261      |1803665        |              |1803665              |           |                 |               |                |                   |Aaland Islands    |6/7/2021 9:20:12 AM     |                        |             |                 |R.b.n. renovatiebouwnuth        |1802336          |            |[{\"FIELD_NAME\":\"Continents__c\",\"FIELD_VALUE\":\"E...  |        |\n",
      "|45302219  |              |         |Marion       |Volk        |2926659         |2973396         |False        |                        |                      |                           |                          |9/5/2019 10:50:54 AM   |7/10/2022 6:01:10 AM   |iwankavolk@googlemail.com           |0                |       |            |              |                                                    |00491734558811  |1806097        |-             |1806097              |-          |-                |               |                |                   |United Kingdom    |11/22/2019 10:37:57 AM  |10/10/2019 10:00:00 AM  |             |                 |Particulier /Marion Volk\\       |1806097          |            |[{\"FIELD_NAME\":\"Continents__c\",\"FIELD_VALUE\":\"E...  |        |\n",
      "|45302417  |              |         |Manuel       |Fernandez   |2926660         |2973396         |True         |12/13/2019 12:26:24 PM  |302757356             |141779364                  |                          |9/5/2019 10:59:07 AM   |8/25/2022 1:14:53 PM   |manzel@pt.lu                        |0                |       |            |              |                                                    |00352691980378  |1803665        |-             |1803665              |-          |-                |               |                |                   |France            |12/13/2019 12:25:56 PM  |                        |             |                 |Particulier /Manuel Fernandez\\  |1806097          |            |[{\"FIELD_NAME\":\"Continents__c\",\"FIELD_VALUE\":\"E...  |        |\n",
      "|45304347  |              |         |Urania       |Mosquera    |2926659         |2973396         |False        |                        |                      |                           |                          |9/5/2019 1:39:10 PM    |5/24/2023 12:30:01 PM  |uramosquera1@gmail.com              |0                |       |            |              |                                                    |3024285520      |1806097        |-             |1806097              |-          |-                |               |                |                   |-                 |11/26/2019 12:18:06 PM  |                        |             |                 |Carayuru                        |1806097          |            |[{\"FIELD_NAME\":\"Continents__c\",\"FIELD_VALUE\":\"S...  |        |\n",
      "|45368837  |              |         |Contact      |Rivoal      |3251784         |2973396         |False        |                        |                      |                           |                          |9/9/2019 4:19:13 PM    |1/25/2023 2:31:57 PM   |jeanpierrerivoal.tredion@orange.fr  |0                |       |            |              |merci de me communiquer des prix de tente lodge...  |06 79 92 69 60  |1803665        |-             |2058699              |-          |-                |               |                |                   |France            |                        |                        |             |                 |Commune de TREDION              |1802332          |            |[{\"FIELD_NAME\":\"Continents__c\",\"FIELD_VALUE\":\"E...  |        |\n",
      "|45398643  |              |         |Shoug        |Alharbi     |2926660         |2973396         |True         |8/27/2020 7:41:46 AM    |316525602             |147351839                  |                          |9/9/2019 7:18:21 PM    |11/1/2021 11:01:04 AM  |Shougalh3@gmail.com                 |0                |       |            |              |15-06 update Marleen:                               |+96656659941    |1820447        |+96656659941  |1820447              |-          |-                |               |                |                   |Saudi Arabia      |10/11/2020 5:30:23 AM   |                        |             |                 |Particulier /Shoug Alharbi\\     |1802332          |            |[{\"FIELD_NAME\":\"Continents__c\",\"FIELD_VALUE\":\"A...  |        |\n",
      "|          |              |         |             |            |                |                |             |                        |                      |                           |                          |                       |                       |                                    |                 |       |            |              |mail gestuurd, want telefoneren lukt niet.          |                |               |              |                     |           |                 |               |                |                   |                  |                        |                        |             |                 |                                |                 |            |                                                    |        |\n",
      "|          |              |         |             |            |                |                |             |                        |                      |                           |                          |                       |                       |                                    |                 |       |            |              |                                                    |                |               |              |                     |           |                 |               |                |                   |                  |                        |                        |             |                 |                                |                 |            |                                                    |        |\n",
      "|          |              |         |             |            |                |                |             |                        |                      |                           |                          |                       |                       |                                    |                 |       |            |              |                                                    |                |               |              |                     |           |                 |               |                |                   |                  |                        |                        |             |                 |                                |                 |            |                                                    |        |\n",
      "|          |              |         |             |            |                |                |             |                        |                      |                           |                          |                       |                       |                                    |                 |       |            |              |Vorrei ordinare una residenza Romanov Quanto co...  |                |               |              |                     |           |                 |               |                |                   |                  |                        |                        |             |                 |                                |                 |            |                                                    |        |\n",
      "                                            |0615609775      |1844024        |-             |2058699              |-          |-                |               |                |                   |France            |                        |                        |             |                 |Particulier /Angel Bueno\\       |1802332          |            |[{\"FIELD_NAME\":\"Continents__c\",\"FIELD_VALUE\":\"E...  |        |\n",
      "|          |              |         |             |            |                |                |             |                        |                      |                           |                          |                       |                       |                                    |                 |       |            |              |Je souhaiterai avoir des renseignements et le p...  |                |               |              |                     |           |                 |               |                |                   |                  |                        |                        |             |                 |                                |                 |            |                                                    |        |\n",
      "                             |                |               |              |                     |           |                 |               |                |                   |                  |                        |                        |             |                 |                                |                 |            |                                                    |        |\n",
      "|          |              |         |             |            |                |                |             |                        |                      |                           |                          |                       |                       |                                    |                 |       |            |              |Cordialement                                        |                |               |              |                     |           |                 |               |                |                   |                  |                        |                        |             |                 |                                |                 |            |                                                    |        |\n",
      "|45410854  |              |         |Yacouba      |Kone        |3251784         |2973396         |False        |                        |                      |                           |                          |9/10/2019 12:01:37 PM  |5/19/2021 3:56:03 PM   |yac33@hotmail.com                   |0                |       |            |              |Je souhaiterais avoir la grille de prix besoin ...  |0022557227564   |1803665        |-             |1803665              |-          |-                |               |                |                   |United Kingdom    |                        |                        |             |                 |Gncs                            |1802332          |            |[{\"FIELD_NAME\":\"Continents__c\",\"FIELD_VALUE\":\"E...  |        |\n",
      "|45412248  |              |         |Basilia      |González    |3251784         |2973396         |False        |                        |                      |                           |                          |9/10/2019 1:56:15 PM   |5/19/2021 3:56:03 PM   |gonzalezbasi@gmail.com              |0                |       |            |              |                                                    |610777602       |1803665        |-             |1793687              |-          |-                |               |                |                   |-                 |                        |                        |             |                 |Particulier /Basilia González\\  |1802332          |            |[{\"FIELD_NAME\":\"Continents__c\",\"FIELD_VALUE\":\"E...  |        |\n",
      "|45414200  |              |         |Geir         |Kvalsvik    |2926659         |2973396         |False        |                        |                      |                           |                          |9/10/2019 3:52:02 PM   |5/24/2023 12:30:01 PM  |Geir@kvalsvik.no                    |0                |       |            |              |20-01 Jennifer: Geen reactie lead en taak geslo...  |004790052026    |1806101        |-             |1806101              |-          |-                |               |                |                   |-                 |1/20/2020 2:41:15 PM    |                        |             |                 |Soge AS                         |1802332          |            |[{\"FIELD_NAME\":\"Continents__c\",\"FIELD_VALUE\":\"E...  |        |\n",
      "|          |              |         |             |            |                |                |             |                        |                      |                           |                          |                       |                       |                                    |                 |       |            |              |12-12 Jennifer: 1e herinnering                      |                |               |              |                     |           |                 |               |                |                   |                  |                        |                        |             |                 |                                |                 |            |                                                    |        |\n",
      "|          |              |         |             |            |                |                |             |                        |                      |                           |                          |                       |                       |                                    |                 |       |            |              |                                                    |                |               |              |                     |           |                 |               |                |                   |                  |                        |                        |             |                 |                                |                 |            |                                                    |        |\n",
      "|          |              |         |             |            |                |                |             |                        |                      |                           |                          |                       |                       |                                    |                 |       |            |              |4 tents delivered Norway, price?                    |                |               |              |                     |           |                 |               |                |                   |                  |                        |                        |             |                 |                                |                 |            |                                                    |        |\n",
      "-------------------------------------------------------------------------------------------------------------------------------------------------------------------------------------------------------------------------------------------------------------------------------------------------------------------------------------------------------------------------------------------------------------------------------------------------------------------------------------------------------------------------------------------------------------------------------------------------------------------------------------------------------------------------------------------------------------------------------------------------------------------------------------------------------------------\n",
      "\n"
     ]
    }
   ],
   "source": [
    "# Show the file before loading\n",
    "# session.sql(\"SELECT ID, LEADSOURCEID FROM YALA_DB.PUBLIC.LEADS;\").show()\n",
    "df_table = session.table(LEAD_TABLE)\n",
    "df_table.show()"
   ]
  },
  {
   "cell_type": "code",
   "execution_count": null,
   "metadata": {},
   "outputs": [],
   "source": [
    "# Show the file before loading\n",
    "session.sql(\"LS @DIAMONDS_ASSETS;\").show()\n",
    "\n",
    "# Create a Snowpark DataFrame that is configured to load data from the CSV file\n",
    "# We can now infer schema from CSV files.\n",
    "diamonds_df = session.read.options({\"field_delimiter\": \",\",\n",
    "                                    \"field_optionally_enclosed_by\": '\"',\n",
    "                                    \"infer_schema\": True,\n",
    "                                    \"parse_header\": True}).csv(\"@DIAMONDS_ASSETS\")\n",
    "\n",
    "diamonds_df.show()\n",
    "\n",
    "# Look at descriptive stats on the DataFrame\n",
    "diamonds_df.describe().show()"
   ]
  },
  {
   "cell_type": "code",
   "execution_count": null,
   "metadata": {},
   "outputs": [],
   "source": [
    "diamonds_df.columns"
   ]
  },
  {
   "attachments": {},
   "cell_type": "markdown",
   "metadata": {},
   "source": [
    "### Data cleaning"
   ]
  },
  {
   "cell_type": "markdown",
   "metadata": {},
   "source": [
    "First, let's force headers to uppercase using Snowpark DataFrame operations for standardization when columns are later written to a Snowflake table."
   ]
  },
  {
   "cell_type": "code",
   "execution_count": null,
   "metadata": {},
   "outputs": [],
   "source": [
    "# Force headers to uppercase\n",
    "for colname in diamonds_df.columns:\n",
    "    if colname == '\"table\"':\n",
    "       new_colname = \"TABLE_PCT\"\n",
    "    else:\n",
    "        new_colname = str.upper(colname)\n",
    "    diamonds_df = diamonds_df.with_column_renamed(colname, new_colname)\n",
    "\n",
    "diamonds_df.show()"
   ]
  },
  {
   "attachments": {},
   "cell_type": "markdown",
   "metadata": {},
   "source": [
    "Next, we standardize the category formatting for `CUT` using Snowpark DataFrame operations.\n",
    "\n",
    "This way, when we write to a Snowflake table, there will be no inconsistencies in how the Snowpark DataFrame will read in the category names. Secondly, the feature transformations on categoricals will be easier to encode."
   ]
  },
  {
   "cell_type": "code",
   "execution_count": null,
   "metadata": {},
   "outputs": [],
   "source": [
    "def fix_values(columnn):\n",
    "    return F.upper(F.regexp_replace(F.col(columnn), '[^a-zA-Z0-9]+', '_'))\n",
    "\n",
    "for col in [\"CUT\"]:\n",
    "    diamonds_df = diamonds_df.with_column(col, fix_values(col))\n",
    "\n",
    "diamonds_df.show()"
   ]
  },
  {
   "cell_type": "markdown",
   "metadata": {},
   "source": [
    "Check the schema."
   ]
  },
  {
   "cell_type": "code",
   "execution_count": null,
   "metadata": {},
   "outputs": [],
   "source": [
    "list(diamonds_df.schema)"
   ]
  },
  {
   "cell_type": "markdown",
   "metadata": {},
   "source": [
    "Finally, let's cast the decimal types to DoubleType() since DecimalType() isn't support by Snowpark ML at the moment."
   ]
  },
  {
   "cell_type": "code",
   "execution_count": null,
   "metadata": {},
   "outputs": [],
   "source": [
    "for colname in [\"CARAT\", \"X\", \"Y\", \"Z\", \"DEPTH\", \"TABLE_PCT\"]:\n",
    "    diamonds_df = diamonds_df.with_column(colname, diamonds_df[colname].cast(DoubleType()))\n",
    "\n",
    "diamonds_df.show()"
   ]
  },
  {
   "attachments": {},
   "cell_type": "markdown",
   "metadata": {},
   "source": [
    "### Write cleaned data to a Snowflake table"
   ]
  },
  {
   "cell_type": "code",
   "execution_count": null,
   "metadata": {},
   "outputs": [],
   "source": [
    "diamonds_df.write.mode('overwrite').save_as_table('diamonds')"
   ]
  },
  {
   "cell_type": "code",
   "execution_count": 28,
   "metadata": {},
   "outputs": [],
   "source": [
    "session.close()"
   ]
  }
 ],
 "metadata": {
  "kernelspec": {
   "display_name": "pysnowpark",
   "language": "python",
   "name": "python3"
  },
  "language_info": {
   "codemirror_mode": {
    "name": "ipython",
    "version": 3
   },
   "file_extension": ".py",
   "mimetype": "text/x-python",
   "name": "python",
   "nbconvert_exporter": "python",
   "pygments_lexer": "ipython3",
   "version": "3.9.0"
  },
  "orig_nbformat": 4
 },
 "nbformat": 4,
 "nbformat_minor": 2
}
